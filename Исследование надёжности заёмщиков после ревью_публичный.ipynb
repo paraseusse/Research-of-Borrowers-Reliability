{
 "cells": [
  {
   "cell_type": "markdown",
   "metadata": {},
   "source": [
    "# Исследование надёжности заёмщиков\n",
    "\n",
    "На основе информации о платёжеспособности клиентов исследовать влияние различных факторов на факт возврата кредита в срок"
   ]
  },
  {
   "cell_type": "markdown",
   "metadata": {},
   "source": [
    "### Получим данные"
   ]
  },
  {
   "cell_type": "code",
   "execution_count": 3,
   "metadata": {},
   "outputs": [],
   "source": [
    "import pandas as pd\n",
    "from pymystem3 import Mystem\n",
    "m = Mystem()\n",
    "from collections import Counter"
   ]
  },
  {
   "cell_type": "code",
   "execution_count": 4,
   "metadata": {},
   "outputs": [],
   "source": [
    "data = pd.read_csv('')"
   ]
  },
  {
   "cell_type": "code",
   "execution_count": 5,
   "metadata": {},
   "outputs": [
    {
     "name": "stdout",
     "output_type": "stream",
     "text": [
      "<class 'pandas.core.frame.DataFrame'>\n",
      "RangeIndex: 21525 entries, 0 to 21524\n",
      "Data columns (total 12 columns):\n",
      " #   Column            Non-Null Count  Dtype  \n",
      "---  ------            --------------  -----  \n",
      " 0   children          21525 non-null  int64  \n",
      " 1   days_employed     19351 non-null  float64\n",
      " 2   dob_years         21525 non-null  int64  \n",
      " 3   education         21525 non-null  object \n",
      " 4   education_id      21525 non-null  int64  \n",
      " 5   family_status     21525 non-null  object \n",
      " 6   family_status_id  21525 non-null  int64  \n",
      " 7   gender            21525 non-null  object \n",
      " 8   income_type       21525 non-null  object \n",
      " 9   debt              21525 non-null  int64  \n",
      " 10  total_income      19351 non-null  float64\n",
      " 11  purpose           21525 non-null  object \n",
      "dtypes: float64(2), int64(5), object(5)\n",
      "memory usage: 2.0+ MB\n"
     ]
    }
   ],
   "source": [
    "data.info()"
   ]
  },
  {
   "cell_type": "code",
   "execution_count": 7,
   "metadata": {},
   "outputs": [
    {
     "data": {
      "text/html": [
       "<div>\n",
       "<style scoped>\n",
       "    .dataframe tbody tr th:only-of-type {\n",
       "        vertical-align: middle;\n",
       "    }\n",
       "\n",
       "    .dataframe tbody tr th {\n",
       "        vertical-align: top;\n",
       "    }\n",
       "\n",
       "    .dataframe thead th {\n",
       "        text-align: right;\n",
       "    }\n",
       "</style>\n",
       "<table border=\"1\" class=\"dataframe\">\n",
       "  <thead>\n",
       "    <tr style=\"text-align: right;\">\n",
       "      <th></th>\n",
       "      <th>children</th>\n",
       "      <th>days_employed</th>\n",
       "      <th>dob_years</th>\n",
       "      <th>education</th>\n",
       "      <th>education_id</th>\n",
       "      <th>family_status</th>\n",
       "      <th>family_status_id</th>\n",
       "      <th>gender</th>\n",
       "      <th>income_type</th>\n",
       "      <th>debt</th>\n",
       "      <th>total_income</th>\n",
       "      <th>purpose</th>\n",
       "    </tr>\n",
       "  </thead>\n",
       "  <tbody>\n",
       "    <tr>\n",
       "      <th>count</th>\n",
       "      <td>21525.000000</td>\n",
       "      <td>19351.000000</td>\n",
       "      <td>21525.000000</td>\n",
       "      <td>21525</td>\n",
       "      <td>21525.000000</td>\n",
       "      <td>21525</td>\n",
       "      <td>21525.000000</td>\n",
       "      <td>21525</td>\n",
       "      <td>21525</td>\n",
       "      <td>21525.000000</td>\n",
       "      <td>1.935100e+04</td>\n",
       "      <td>21525</td>\n",
       "    </tr>\n",
       "    <tr>\n",
       "      <th>unique</th>\n",
       "      <td>NaN</td>\n",
       "      <td>NaN</td>\n",
       "      <td>NaN</td>\n",
       "      <td>15</td>\n",
       "      <td>NaN</td>\n",
       "      <td>5</td>\n",
       "      <td>NaN</td>\n",
       "      <td>3</td>\n",
       "      <td>8</td>\n",
       "      <td>NaN</td>\n",
       "      <td>NaN</td>\n",
       "      <td>38</td>\n",
       "    </tr>\n",
       "    <tr>\n",
       "      <th>top</th>\n",
       "      <td>NaN</td>\n",
       "      <td>NaN</td>\n",
       "      <td>NaN</td>\n",
       "      <td>среднее</td>\n",
       "      <td>NaN</td>\n",
       "      <td>женат / замужем</td>\n",
       "      <td>NaN</td>\n",
       "      <td>F</td>\n",
       "      <td>сотрудник</td>\n",
       "      <td>NaN</td>\n",
       "      <td>NaN</td>\n",
       "      <td>свадьба</td>\n",
       "    </tr>\n",
       "    <tr>\n",
       "      <th>freq</th>\n",
       "      <td>NaN</td>\n",
       "      <td>NaN</td>\n",
       "      <td>NaN</td>\n",
       "      <td>13750</td>\n",
       "      <td>NaN</td>\n",
       "      <td>12380</td>\n",
       "      <td>NaN</td>\n",
       "      <td>14236</td>\n",
       "      <td>11119</td>\n",
       "      <td>NaN</td>\n",
       "      <td>NaN</td>\n",
       "      <td>797</td>\n",
       "    </tr>\n",
       "    <tr>\n",
       "      <th>mean</th>\n",
       "      <td>0.538908</td>\n",
       "      <td>63046.497661</td>\n",
       "      <td>43.293380</td>\n",
       "      <td>NaN</td>\n",
       "      <td>0.817236</td>\n",
       "      <td>NaN</td>\n",
       "      <td>0.972544</td>\n",
       "      <td>NaN</td>\n",
       "      <td>NaN</td>\n",
       "      <td>0.080883</td>\n",
       "      <td>1.674223e+05</td>\n",
       "      <td>NaN</td>\n",
       "    </tr>\n",
       "    <tr>\n",
       "      <th>std</th>\n",
       "      <td>1.381587</td>\n",
       "      <td>140827.311974</td>\n",
       "      <td>12.574584</td>\n",
       "      <td>NaN</td>\n",
       "      <td>0.548138</td>\n",
       "      <td>NaN</td>\n",
       "      <td>1.420324</td>\n",
       "      <td>NaN</td>\n",
       "      <td>NaN</td>\n",
       "      <td>0.272661</td>\n",
       "      <td>1.029716e+05</td>\n",
       "      <td>NaN</td>\n",
       "    </tr>\n",
       "    <tr>\n",
       "      <th>min</th>\n",
       "      <td>-1.000000</td>\n",
       "      <td>-18388.949901</td>\n",
       "      <td>0.000000</td>\n",
       "      <td>NaN</td>\n",
       "      <td>0.000000</td>\n",
       "      <td>NaN</td>\n",
       "      <td>0.000000</td>\n",
       "      <td>NaN</td>\n",
       "      <td>NaN</td>\n",
       "      <td>0.000000</td>\n",
       "      <td>2.066726e+04</td>\n",
       "      <td>NaN</td>\n",
       "    </tr>\n",
       "    <tr>\n",
       "      <th>25%</th>\n",
       "      <td>0.000000</td>\n",
       "      <td>-2747.423625</td>\n",
       "      <td>33.000000</td>\n",
       "      <td>NaN</td>\n",
       "      <td>1.000000</td>\n",
       "      <td>NaN</td>\n",
       "      <td>0.000000</td>\n",
       "      <td>NaN</td>\n",
       "      <td>NaN</td>\n",
       "      <td>0.000000</td>\n",
       "      <td>1.030532e+05</td>\n",
       "      <td>NaN</td>\n",
       "    </tr>\n",
       "    <tr>\n",
       "      <th>50%</th>\n",
       "      <td>0.000000</td>\n",
       "      <td>-1203.369529</td>\n",
       "      <td>42.000000</td>\n",
       "      <td>NaN</td>\n",
       "      <td>1.000000</td>\n",
       "      <td>NaN</td>\n",
       "      <td>0.000000</td>\n",
       "      <td>NaN</td>\n",
       "      <td>NaN</td>\n",
       "      <td>0.000000</td>\n",
       "      <td>1.450179e+05</td>\n",
       "      <td>NaN</td>\n",
       "    </tr>\n",
       "    <tr>\n",
       "      <th>75%</th>\n",
       "      <td>1.000000</td>\n",
       "      <td>-291.095954</td>\n",
       "      <td>53.000000</td>\n",
       "      <td>NaN</td>\n",
       "      <td>1.000000</td>\n",
       "      <td>NaN</td>\n",
       "      <td>1.000000</td>\n",
       "      <td>NaN</td>\n",
       "      <td>NaN</td>\n",
       "      <td>0.000000</td>\n",
       "      <td>2.034351e+05</td>\n",
       "      <td>NaN</td>\n",
       "    </tr>\n",
       "    <tr>\n",
       "      <th>max</th>\n",
       "      <td>20.000000</td>\n",
       "      <td>401755.400475</td>\n",
       "      <td>75.000000</td>\n",
       "      <td>NaN</td>\n",
       "      <td>4.000000</td>\n",
       "      <td>NaN</td>\n",
       "      <td>4.000000</td>\n",
       "      <td>NaN</td>\n",
       "      <td>NaN</td>\n",
       "      <td>1.000000</td>\n",
       "      <td>2.265604e+06</td>\n",
       "      <td>NaN</td>\n",
       "    </tr>\n",
       "  </tbody>\n",
       "</table>\n",
       "</div>"
      ],
      "text/plain": [
       "            children  days_employed     dob_years education  education_id  \\\n",
       "count   21525.000000   19351.000000  21525.000000     21525  21525.000000   \n",
       "unique           NaN            NaN           NaN        15           NaN   \n",
       "top              NaN            NaN           NaN   среднее           NaN   \n",
       "freq             NaN            NaN           NaN     13750           NaN   \n",
       "mean        0.538908   63046.497661     43.293380       NaN      0.817236   \n",
       "std         1.381587  140827.311974     12.574584       NaN      0.548138   \n",
       "min        -1.000000  -18388.949901      0.000000       NaN      0.000000   \n",
       "25%         0.000000   -2747.423625     33.000000       NaN      1.000000   \n",
       "50%         0.000000   -1203.369529     42.000000       NaN      1.000000   \n",
       "75%         1.000000    -291.095954     53.000000       NaN      1.000000   \n",
       "max        20.000000  401755.400475     75.000000       NaN      4.000000   \n",
       "\n",
       "          family_status  family_status_id gender income_type          debt  \\\n",
       "count             21525      21525.000000  21525       21525  21525.000000   \n",
       "unique                5               NaN      3           8           NaN   \n",
       "top     женат / замужем               NaN      F   сотрудник           NaN   \n",
       "freq              12380               NaN  14236       11119           NaN   \n",
       "mean                NaN          0.972544    NaN         NaN      0.080883   \n",
       "std                 NaN          1.420324    NaN         NaN      0.272661   \n",
       "min                 NaN          0.000000    NaN         NaN      0.000000   \n",
       "25%                 NaN          0.000000    NaN         NaN      0.000000   \n",
       "50%                 NaN          0.000000    NaN         NaN      0.000000   \n",
       "75%                 NaN          1.000000    NaN         NaN      0.000000   \n",
       "max                 NaN          4.000000    NaN         NaN      1.000000   \n",
       "\n",
       "        total_income  purpose  \n",
       "count   1.935100e+04    21525  \n",
       "unique           NaN       38  \n",
       "top              NaN  свадьба  \n",
       "freq             NaN      797  \n",
       "mean    1.674223e+05      NaN  \n",
       "std     1.029716e+05      NaN  \n",
       "min     2.066726e+04      NaN  \n",
       "25%     1.030532e+05      NaN  \n",
       "50%     1.450179e+05      NaN  \n",
       "75%     2.034351e+05      NaN  \n",
       "max     2.265604e+06      NaN  "
      ]
     },
     "execution_count": 7,
     "metadata": {},
     "output_type": "execute_result"
    }
   ],
   "source": [
    "data.describe(include='all')"
   ]
  },
  {
   "cell_type": "code",
   "execution_count": 9,
   "metadata": {},
   "outputs": [
    {
     "data": {
      "text/html": [
       "<div>\n",
       "<style scoped>\n",
       "    .dataframe tbody tr th:only-of-type {\n",
       "        vertical-align: middle;\n",
       "    }\n",
       "\n",
       "    .dataframe tbody tr th {\n",
       "        vertical-align: top;\n",
       "    }\n",
       "\n",
       "    .dataframe thead th {\n",
       "        text-align: right;\n",
       "    }\n",
       "</style>\n",
       "<table border=\"1\" class=\"dataframe\">\n",
       "  <thead>\n",
       "    <tr style=\"text-align: right;\">\n",
       "      <th></th>\n",
       "      <th>children</th>\n",
       "      <th>days_employed</th>\n",
       "      <th>dob_years</th>\n",
       "      <th>education</th>\n",
       "      <th>education_id</th>\n",
       "      <th>family_status</th>\n",
       "      <th>family_status_id</th>\n",
       "      <th>gender</th>\n",
       "      <th>income_type</th>\n",
       "      <th>debt</th>\n",
       "      <th>total_income</th>\n",
       "      <th>purpose</th>\n",
       "    </tr>\n",
       "  </thead>\n",
       "  <tbody>\n",
       "    <tr>\n",
       "      <th>0</th>\n",
       "      <td>1</td>\n",
       "      <td>-8437.673028</td>\n",
       "      <td>42</td>\n",
       "      <td>высшее</td>\n",
       "      <td>0</td>\n",
       "      <td>женат / замужем</td>\n",
       "      <td>0</td>\n",
       "      <td>F</td>\n",
       "      <td>сотрудник</td>\n",
       "      <td>0</td>\n",
       "      <td>253875.639453</td>\n",
       "      <td>покупка жилья</td>\n",
       "    </tr>\n",
       "    <tr>\n",
       "      <th>1</th>\n",
       "      <td>1</td>\n",
       "      <td>-4024.803754</td>\n",
       "      <td>36</td>\n",
       "      <td>среднее</td>\n",
       "      <td>1</td>\n",
       "      <td>женат / замужем</td>\n",
       "      <td>0</td>\n",
       "      <td>F</td>\n",
       "      <td>сотрудник</td>\n",
       "      <td>0</td>\n",
       "      <td>112080.014102</td>\n",
       "      <td>приобретение автомобиля</td>\n",
       "    </tr>\n",
       "    <tr>\n",
       "      <th>2</th>\n",
       "      <td>0</td>\n",
       "      <td>-5623.422610</td>\n",
       "      <td>33</td>\n",
       "      <td>Среднее</td>\n",
       "      <td>1</td>\n",
       "      <td>женат / замужем</td>\n",
       "      <td>0</td>\n",
       "      <td>M</td>\n",
       "      <td>сотрудник</td>\n",
       "      <td>0</td>\n",
       "      <td>145885.952297</td>\n",
       "      <td>покупка жилья</td>\n",
       "    </tr>\n",
       "  </tbody>\n",
       "</table>\n",
       "</div>"
      ],
      "text/plain": [
       "   children  days_employed  dob_years education  education_id  \\\n",
       "0         1   -8437.673028         42    высшее             0   \n",
       "1         1   -4024.803754         36   среднее             1   \n",
       "2         0   -5623.422610         33   Среднее             1   \n",
       "\n",
       "     family_status  family_status_id gender income_type  debt   total_income  \\\n",
       "0  женат / замужем                 0      F   сотрудник     0  253875.639453   \n",
       "1  женат / замужем                 0      F   сотрудник     0  112080.014102   \n",
       "2  женат / замужем                 0      M   сотрудник     0  145885.952297   \n",
       "\n",
       "                   purpose  \n",
       "0            покупка жилья  \n",
       "1  приобретение автомобиля  \n",
       "2            покупка жилья  "
      ]
     },
     "execution_count": 9,
     "metadata": {},
     "output_type": "execute_result"
    }
   ],
   "source": [
    "data.head(3)"
   ]
  },
  {
   "cell_type": "markdown",
   "metadata": {},
   "source": [
    "### Вывод"
   ]
  },
  {
   "cell_type": "markdown",
   "metadata": {},
   "source": [
    "21525 наблюдений, 12 колонок\n",
    "\n",
    "Пропущенные значения в days_employed (общий трудовой стаж в днях) и total_income (ежемесячный доход).\n",
    "\n",
    "Количество пропущенных значений в обеих колонках одинаковое (случайность или взаимосвязь?): 19351\n",
    "\n",
    "Отрицательные значения в days_employed (общий трудовой стаж в днях). Ошибка ли это в выгрузке? \n",
    "\n",
    "Минимальное значение в children = -1. \n",
    "\n",
    "Есть дубли (разные регистры) в колонке education: Среднее и среднее"
   ]
  },
  {
   "cell_type": "markdown",
   "metadata": {},
   "source": [
    "## Предобработка данных"
   ]
  },
  {
   "cell_type": "markdown",
   "metadata": {},
   "source": [
    "### Обработка пропусков"
   ]
  },
  {
   "cell_type": "markdown",
   "metadata": {},
   "source": [
    "Предполагаю, что значение в total_income — критически важный фактор, влияющий на факт погашения кредита в срок, поэтому группирую датасет по типу дохода, нахожу среднюю, заменяю пропущенные значения на среднюю по группе дохода. \n",
    "\n",
    "Определяю количество пропущенных значений в days_employed: 2174. Перед отпределением среднего значения в days_employed, заменяю отрицателные значения на положительные. Заменяю NaN на среднее. "
   ]
  },
  {
   "cell_type": "code",
   "execution_count": 12,
   "metadata": {},
   "outputs": [
    {
     "data": {
      "text/plain": [
       "0"
      ]
     },
     "execution_count": 12,
     "metadata": {},
     "output_type": "execute_result"
    }
   ],
   "source": [
    "unique_income_types = data['income_type'].unique()\n",
    "\n",
    "for in_type in unique_income_types:\n",
    "    mean = data[data['income_type'] == in_type]['total_income'].mean()\n",
    "    data.loc[data['income_type'] == in_type, 'total_income'] = data.loc[data['income_type'] == in_type, 'total_income'].fillna(mean)\n",
    "    \n",
    "\n",
    "daysNan = len(data[data['days_employed'].isna()])\n",
    "    \n",
    "data['days_employed'] = data['days_employed'].abs()\n",
    "\n",
    "daysMeanAbc = data['days_employed'].mean()\n",
    "\n",
    "data['days_employed'] = data['days_employed'].fillna(daysMeanAbc)\n",
    "\n",
    "daysNan"
   ]
  },
  {
   "cell_type": "code",
   "execution_count": 13,
   "metadata": {},
   "outputs": [
    {
     "name": "stdout",
     "output_type": "stream",
     "text": [
      "<class 'pandas.core.frame.DataFrame'>\n",
      "RangeIndex: 21525 entries, 0 to 21524\n",
      "Data columns (total 12 columns):\n",
      " #   Column            Non-Null Count  Dtype  \n",
      "---  ------            --------------  -----  \n",
      " 0   children          21525 non-null  int64  \n",
      " 1   days_employed     21525 non-null  float64\n",
      " 2   dob_years         21525 non-null  int64  \n",
      " 3   education         21525 non-null  object \n",
      " 4   education_id      21525 non-null  int64  \n",
      " 5   family_status     21525 non-null  object \n",
      " 6   family_status_id  21525 non-null  int64  \n",
      " 7   gender            21525 non-null  object \n",
      " 8   income_type       21525 non-null  object \n",
      " 9   debt              21525 non-null  int64  \n",
      " 10  total_income      21525 non-null  float64\n",
      " 11  purpose           21525 non-null  object \n",
      "dtypes: float64(2), int64(5), object(5)\n",
      "memory usage: 2.0+ MB\n"
     ]
    }
   ],
   "source": [
    "data.info()"
   ]
  },
  {
   "cell_type": "markdown",
   "metadata": {},
   "source": [
    "### Вывод"
   ]
  },
  {
   "cell_type": "markdown",
   "metadata": {},
   "source": [
    "Благодаря замене пропущенных значений на средние, удалось сохранить все 21525 наблюдений. \n",
    "\n",
    "Вероятно, равное количество пропущенных значений в этих двух колонках — не случайность, это неслучайная ошибка, доход и трудовой стаж взаимозависимые показатели.  "
   ]
  },
  {
   "cell_type": "markdown",
   "metadata": {},
   "source": [
    "### Замена типа данных"
   ]
  },
  {
   "cell_type": "code",
   "execution_count": 16,
   "metadata": {},
   "outputs": [],
   "source": [
    "data['children'] = data['children'].abs()\n",
    "\n",
    "data['days_employed'] = data['days_employed'].astype('int64')\n",
    "data['total_income'] = data['total_income'].astype('int64')"
   ]
  },
  {
   "cell_type": "markdown",
   "metadata": {},
   "source": [
    "### Вывод"
   ]
  },
  {
   "cell_type": "markdown",
   "metadata": {},
   "source": [
    "1. Предположив, что отрицательные значения в days_employed (общий трудовой стаж в днях) и min в children = -1 — это ошибка в выгрузке, заменяю отрицательные значения на положительные.\n",
    "2. Заменяю тип данных days_employed и total_income с float64 на int64 для повышения скорости расчетов и сокращения объема занимаемой памяти.\n"
   ]
  },
  {
   "cell_type": "markdown",
   "metadata": {},
   "source": [
    "### Обработка дубликатов"
   ]
  },
  {
   "cell_type": "code",
   "execution_count": 17,
   "metadata": {},
   "outputs": [
    {
     "data": {
      "text/plain": [
       "False    21471\n",
       "True        54\n",
       "dtype: int64"
      ]
     },
     "execution_count": 17,
     "metadata": {},
     "output_type": "execute_result"
    }
   ],
   "source": [
    "data.duplicated().value_counts()"
   ]
  },
  {
   "cell_type": "code",
   "execution_count": 18,
   "metadata": {},
   "outputs": [],
   "source": [
    "data = data.drop_duplicates().reset_index(drop= True)"
   ]
  },
  {
   "cell_type": "code",
   "execution_count": 19,
   "metadata": {},
   "outputs": [
    {
     "data": {
      "text/plain": [
       "array([ 1,  0,  3,  2,  4, 20,  5])"
      ]
     },
     "execution_count": 19,
     "metadata": {},
     "output_type": "execute_result"
    }
   ],
   "source": [
    "data['children'].unique()"
   ]
  },
  {
   "cell_type": "code",
   "execution_count": 20,
   "metadata": {},
   "outputs": [
    {
     "data": {
      "text/plain": [
       "array(['высшее', 'среднее', 'Среднее', 'СРЕДНЕЕ', 'ВЫСШЕЕ',\n",
       "       'неоконченное высшее', 'начальное', 'Высшее',\n",
       "       'НЕОКОНЧЕННОЕ ВЫСШЕЕ', 'Неоконченное высшее', 'НАЧАЛЬНОЕ',\n",
       "       'Начальное', 'Ученая степень', 'УЧЕНАЯ СТЕПЕНЬ', 'ученая степень'],\n",
       "      dtype=object)"
      ]
     },
     "execution_count": 20,
     "metadata": {},
     "output_type": "execute_result"
    }
   ],
   "source": [
    "data['education'].unique()"
   ]
  },
  {
   "cell_type": "code",
   "execution_count": 21,
   "metadata": {},
   "outputs": [
    {
     "data": {
      "text/plain": [
       "array(['женат / замужем', 'гражданский брак', 'вдовец / вдова',\n",
       "       'в разводе', 'Не женат / не замужем'], dtype=object)"
      ]
     },
     "execution_count": 21,
     "metadata": {},
     "output_type": "execute_result"
    }
   ],
   "source": [
    "data['family_status'].unique()"
   ]
  },
  {
   "cell_type": "code",
   "execution_count": 22,
   "metadata": {},
   "outputs": [
    {
     "data": {
      "text/plain": [
       "array(['F', 'M', 'XNA'], dtype=object)"
      ]
     },
     "execution_count": 22,
     "metadata": {},
     "output_type": "execute_result"
    }
   ],
   "source": [
    "data['gender'].unique()"
   ]
  },
  {
   "cell_type": "code",
   "execution_count": 24,
   "metadata": {},
   "outputs": [
    {
     "data": {
      "text/plain": [
       "array(['сотрудник', 'пенсионер', 'компаньон', 'госслужащий',\n",
       "       'безработный', 'предприниматель', 'студент', 'в декрете'],\n",
       "      dtype=object)"
      ]
     },
     "execution_count": 24,
     "metadata": {},
     "output_type": "execute_result"
    }
   ],
   "source": [
    "data['income_type'].unique()\n"
   ]
  },
  {
   "cell_type": "code",
   "execution_count": 25,
   "metadata": {},
   "outputs": [],
   "source": [
    "data['education'] = data.education.str.lower()\n",
    "data['family_status'] = data.family_status.str.lower()\n",
    "data['income_type'] = data.income_type.str.lower()\n",
    "data['purpose'] = data.purpose.str.lower()"
   ]
  },
  {
   "cell_type": "markdown",
   "metadata": {},
   "source": [
    "### Вывод"
   ]
  },
  {
   "cell_type": "markdown",
   "metadata": {},
   "source": [
    "Подсчитываю сумму дублирующих строк: 54 (иногда показывает 71) и удаляю дубликаты.\n",
    "\n",
    "Выявляю неявные дубликаты. В колонках с категориальными типами данных проверила и заменила регистры (education, family_status, income_type, purpose), чтобы, например, 'среднее' , 'Среднее', 'СРЕДНЕЕ' были одной категорией. "
   ]
  },
  {
   "cell_type": "markdown",
   "metadata": {},
   "source": [
    "## Лемматизация"
   ]
  },
  {
   "cell_type": "markdown",
   "metadata": {},
   "source": [
    "Создала список из колонки purpose и циклом лемматизировала в отдельный список, ункальные значения."
   ]
  },
  {
   "cell_type": "code",
   "execution_count": 26,
   "metadata": {},
   "outputs": [
    {
     "name": "stdout",
     "output_type": "stream",
     "text": [
      "['покупка', ' ', 'жилье', '\\n', 'приобретение', 'автомобиль', 'дополнительный', 'образование', 'сыграть', 'свадьба', 'операция', 'с', 'на', 'проведение', 'для', 'семья', 'недвижимость', 'коммерческий', 'жилой', 'строительство', 'собственный', 'подержать', 'свой', 'со', 'заниматься', 'сделка', 'подержанный', 'получение', 'высокий', 'профильный', 'сдача', 'ремонт']\n"
     ]
    }
   ],
   "source": [
    "purpose_text = data['purpose'].tolist()\n",
    " \n",
    "lemmas = []\n",
    " \n",
    "for line in purpose_text:\n",
    "    lemmas += m.lemmatize(line)\n",
    " \n",
    "unique_lemmas = []\n",
    " \n",
    "for word in lemmas:\n",
    "    if word not in unique_lemmas:\n",
    "        unique_lemmas.append(word)\n",
    "        \n",
    "print(unique_lemmas)\n",
    "\n",
    "#print(Counter(unique_lemmas))\n"
   ]
  },
  {
   "cell_type": "markdown",
   "metadata": {},
   "source": [
    "Добавляю в таблицу колонку loan_purpose (цели кредита) по которой можно будет категоризоровать заемщиков. \n",
    "\n",
    "Суммируя количество записей (21525), убеждаюсь, что все строчки попали в ту или иную категорию."
   ]
  },
  {
   "cell_type": "code",
   "execution_count": 28,
   "metadata": {},
   "outputs": [
    {
     "data": {
      "text/plain": [
       "array(['Недвижимость', 'Автотранспорт', 'Образование', 'Свадьба'],\n",
       "      dtype=object)"
      ]
     },
     "execution_count": 28,
     "metadata": {},
     "output_type": "execute_result"
    }
   ],
   "source": [
    "def lemmatization(row):\n",
    "    purpose = row['purpose']\n",
    "    lemmas = m.lemmatize(purpose)\n",
    "    return lemmas\n",
    " \n",
    "data['lemmas'] = data.apply(lemmatization, axis=1)\n",
    "\n",
    " \n",
    "def categoryLemmasFunction(row): \n",
    "    category_lemmas_row = row ['lemmas']\n",
    "\n",
    "    if 'автомобиль' in category_lemmas_row:\n",
    "        return 'Автотранспорт'\n",
    "    \n",
    "    if 'жилье' in category_lemmas_row:\n",
    "        return 'Недвижимость'\n",
    "    \n",
    "    if 'недвижимость'in category_lemmas_row:\n",
    "        return 'Недвижимость'\n",
    "    \n",
    "    if 'свадьба'in category_lemmas_row:\n",
    "        return 'Свадьба'\n",
    "    \n",
    "    if 'образование' in category_lemmas_row:\n",
    "        return 'Образование'\n",
    " \n",
    "data['loanPurpose'] = data.apply(categoryLemmasFunction, axis=1)\n",
    "\n",
    "data.head(5)\n",
    "\n",
    "data['loanPurpose'].value_counts().sum()\n",
    "\n",
    "data['loanPurpose'].unique()\n"
   ]
  },
  {
   "cell_type": "markdown",
   "metadata": {},
   "source": [
    "### Вывод"
   ]
  },
  {
   "cell_type": "markdown",
   "metadata": {},
   "source": [
    "Лемматизировав цели кредита, получили 4 категории по целям: недвижимость, автотранспорт, образование, свадьба."
   ]
  },
  {
   "cell_type": "markdown",
   "metadata": {},
   "source": [
    "### Категоризация данных"
   ]
  },
  {
   "cell_type": "markdown",
   "metadata": {},
   "source": [
    "На основании данных из пункта \"Обработка дубликатов\", можно рассмотреть данные в следующих категориях: \n",
    "\n",
    "1. Наличие или отсутствие детей — 3 категории: нет детей, 1 ребенок, 2 и более.\n",
    "\n",
    "2. Наличие или отсутствие образования — 3 категории: высшее + ученая степень, среднее и без высшего образования. \n",
    "\n",
    "3. Партнерский статус — все категории, представленные в списке уникальных значений: женат / замужем, гражданский брак, вдовец/вдова, в разводе, не женат/не замужем\n",
    "\n",
    "4. По способу зарабатывать деньги — все категории, представленные в списке уникальных значений:\n",
    "сотрудник, пенсионер, компаньон, госслужащий, безработный, предприниматель, студент, в декрете. \n",
    "\n",
    "5. По ежемесячному доходу — 5 категорий: до 75000 (86,83-13%), до 112500, до 150 000, 187500. Шаг 75000/2 = 37500.\n",
    "https://ria.ru/20190520/1553644527.html\n",
    "\"Средняя зарплата до вычета налогов в Москве за 1 квартал 2019 года выросла на 9,5% по сравнению с аналогичным периодом 2018 года и составила 86,83 тысяч рублей, сообщил РИА Новости руководитель департамента экономической политики и развития Москвы Денис Тихонов\" \n",
    "\n",
    "6. По целям — 4 категории: недвижимость, автотранспорт, образование, свадьба (сделано в предыдущем шаге)."
   ]
  },
  {
   "cell_type": "code",
   "execution_count": 30,
   "metadata": {},
   "outputs": [
    {
     "data": {
      "text/html": [
       "<div>\n",
       "<style scoped>\n",
       "    .dataframe tbody tr th:only-of-type {\n",
       "        vertical-align: middle;\n",
       "    }\n",
       "\n",
       "    .dataframe tbody tr th {\n",
       "        vertical-align: top;\n",
       "    }\n",
       "\n",
       "    .dataframe thead th {\n",
       "        text-align: right;\n",
       "    }\n",
       "</style>\n",
       "<table border=\"1\" class=\"dataframe\">\n",
       "  <thead>\n",
       "    <tr style=\"text-align: right;\">\n",
       "      <th></th>\n",
       "      <th>children</th>\n",
       "      <th>days_employed</th>\n",
       "      <th>dob_years</th>\n",
       "      <th>education</th>\n",
       "      <th>education_id</th>\n",
       "      <th>family_status</th>\n",
       "      <th>family_status_id</th>\n",
       "      <th>gender</th>\n",
       "      <th>income_type</th>\n",
       "      <th>debt</th>\n",
       "      <th>total_income</th>\n",
       "      <th>purpose</th>\n",
       "      <th>lemmas</th>\n",
       "      <th>loanPurpose</th>\n",
       "      <th>childrenCount</th>\n",
       "      <th>educationQlassification</th>\n",
       "      <th>partnerStatus</th>\n",
       "      <th>incomeFrom</th>\n",
       "      <th>incomeCount</th>\n",
       "    </tr>\n",
       "  </thead>\n",
       "  <tbody>\n",
       "    <tr>\n",
       "      <th>0</th>\n",
       "      <td>1</td>\n",
       "      <td>8437</td>\n",
       "      <td>42</td>\n",
       "      <td>высшее</td>\n",
       "      <td>0</td>\n",
       "      <td>женат / замужем</td>\n",
       "      <td>0</td>\n",
       "      <td>F</td>\n",
       "      <td>сотрудник</td>\n",
       "      <td>0</td>\n",
       "      <td>253875</td>\n",
       "      <td>покупка жилья</td>\n",
       "      <td>[покупка,  , жилье, \\n]</td>\n",
       "      <td>Недвижимость</td>\n",
       "      <td>1 ребенок</td>\n",
       "      <td>Высшее</td>\n",
       "      <td>Брак</td>\n",
       "      <td>Сотрудник</td>\n",
       "      <td>Значительно выше среднего</td>\n",
       "    </tr>\n",
       "    <tr>\n",
       "      <th>1</th>\n",
       "      <td>1</td>\n",
       "      <td>4024</td>\n",
       "      <td>36</td>\n",
       "      <td>среднее</td>\n",
       "      <td>1</td>\n",
       "      <td>женат / замужем</td>\n",
       "      <td>0</td>\n",
       "      <td>F</td>\n",
       "      <td>сотрудник</td>\n",
       "      <td>0</td>\n",
       "      <td>112080</td>\n",
       "      <td>приобретение автомобиля</td>\n",
       "      <td>[приобретение,  , автомобиль, \\n]</td>\n",
       "      <td>Автотранспорт</td>\n",
       "      <td>1 ребенок</td>\n",
       "      <td>Среднее</td>\n",
       "      <td>Брак</td>\n",
       "      <td>Сотрудник</td>\n",
       "      <td>Средний</td>\n",
       "    </tr>\n",
       "    <tr>\n",
       "      <th>2</th>\n",
       "      <td>0</td>\n",
       "      <td>5623</td>\n",
       "      <td>33</td>\n",
       "      <td>среднее</td>\n",
       "      <td>1</td>\n",
       "      <td>женат / замужем</td>\n",
       "      <td>0</td>\n",
       "      <td>M</td>\n",
       "      <td>сотрудник</td>\n",
       "      <td>0</td>\n",
       "      <td>145885</td>\n",
       "      <td>покупка жилья</td>\n",
       "      <td>[покупка,  , жилье, \\n]</td>\n",
       "      <td>Недвижимость</td>\n",
       "      <td>Нет детей</td>\n",
       "      <td>Среднее</td>\n",
       "      <td>Брак</td>\n",
       "      <td>Сотрудник</td>\n",
       "      <td>Выше среднего</td>\n",
       "    </tr>\n",
       "    <tr>\n",
       "      <th>3</th>\n",
       "      <td>3</td>\n",
       "      <td>4124</td>\n",
       "      <td>32</td>\n",
       "      <td>среднее</td>\n",
       "      <td>1</td>\n",
       "      <td>женат / замужем</td>\n",
       "      <td>0</td>\n",
       "      <td>M</td>\n",
       "      <td>сотрудник</td>\n",
       "      <td>0</td>\n",
       "      <td>267628</td>\n",
       "      <td>дополнительное образование</td>\n",
       "      <td>[дополнительный,  , образование, \\n]</td>\n",
       "      <td>Образование</td>\n",
       "      <td>None</td>\n",
       "      <td>Среднее</td>\n",
       "      <td>Брак</td>\n",
       "      <td>Сотрудник</td>\n",
       "      <td>Значительно выше среднего</td>\n",
       "    </tr>\n",
       "    <tr>\n",
       "      <th>4</th>\n",
       "      <td>0</td>\n",
       "      <td>340266</td>\n",
       "      <td>53</td>\n",
       "      <td>среднее</td>\n",
       "      <td>1</td>\n",
       "      <td>гражданский брак</td>\n",
       "      <td>1</td>\n",
       "      <td>F</td>\n",
       "      <td>пенсионер</td>\n",
       "      <td>0</td>\n",
       "      <td>158616</td>\n",
       "      <td>сыграть свадьбу</td>\n",
       "      <td>[сыграть,  , свадьба, \\n]</td>\n",
       "      <td>Свадьба</td>\n",
       "      <td>Нет детей</td>\n",
       "      <td>Среднее</td>\n",
       "      <td>Гражданский брак</td>\n",
       "      <td>Пенсионер</td>\n",
       "      <td>Значительно выше среднего</td>\n",
       "    </tr>\n",
       "  </tbody>\n",
       "</table>\n",
       "</div>"
      ],
      "text/plain": [
       "   children  days_employed  dob_years education  education_id  \\\n",
       "0         1           8437         42    высшее             0   \n",
       "1         1           4024         36   среднее             1   \n",
       "2         0           5623         33   среднее             1   \n",
       "3         3           4124         32   среднее             1   \n",
       "4         0         340266         53   среднее             1   \n",
       "\n",
       "      family_status  family_status_id gender income_type  debt  total_income  \\\n",
       "0   женат / замужем                 0      F   сотрудник     0        253875   \n",
       "1   женат / замужем                 0      F   сотрудник     0        112080   \n",
       "2   женат / замужем                 0      M   сотрудник     0        145885   \n",
       "3   женат / замужем                 0      M   сотрудник     0        267628   \n",
       "4  гражданский брак                 1      F   пенсионер     0        158616   \n",
       "\n",
       "                      purpose                                lemmas  \\\n",
       "0               покупка жилья               [покупка,  , жилье, \\n]   \n",
       "1     приобретение автомобиля     [приобретение,  , автомобиль, \\n]   \n",
       "2               покупка жилья               [покупка,  , жилье, \\n]   \n",
       "3  дополнительное образование  [дополнительный,  , образование, \\n]   \n",
       "4             сыграть свадьбу             [сыграть,  , свадьба, \\n]   \n",
       "\n",
       "     loanPurpose childrenCount educationQlassification     partnerStatus  \\\n",
       "0   Недвижимость     1 ребенок                  Высшее              Брак   \n",
       "1  Автотранспорт     1 ребенок                 Среднее              Брак   \n",
       "2   Недвижимость     Нет детей                 Среднее              Брак   \n",
       "3    Образование          None                 Среднее              Брак   \n",
       "4        Свадьба     Нет детей                 Среднее  Гражданский брак   \n",
       "\n",
       "  incomeFrom                incomeCount  \n",
       "0  Сотрудник  Значительно выше среднего  \n",
       "1  Сотрудник                    Средний  \n",
       "2  Сотрудник              Выше среднего  \n",
       "3  Сотрудник  Значительно выше среднего  \n",
       "4  Пенсионер  Значительно выше среднего  "
      ]
     },
     "execution_count": 30,
     "metadata": {},
     "output_type": "execute_result"
    }
   ],
   "source": [
    "def childrenCount(quantity):\n",
    "        if quantity == 0:\n",
    "                return 'Нет детей'\n",
    "        if quantity <= 1:\n",
    "                return '1 ребенок'\n",
    "        if quantity <= 2:    \n",
    "                return 'Много детей'\n",
    "\n",
    "data['childrenCount'] = data['children'].apply(childrenCount)\n",
    "\n",
    "\n",
    "def educationQlassification(row):\n",
    "        education = row ['education']\n",
    "        \n",
    "        if 'высшее' in education:\n",
    "            return 'Высшее'\n",
    "        if 'ученая степень' in education:\n",
    "            return 'Высшее'\n",
    "        if 'среднее' in education:\n",
    "            return 'Среднее'\n",
    "        return 'Без высшего'\n",
    " \n",
    "data['educationQlassification'] = data.apply(educationQlassification, axis=1)\n",
    "\n",
    "def partnerStatus(row):\n",
    "        family_status = row ['family_status']\n",
    "        \n",
    "        if 'женат / замужем' in family_status:\n",
    "            return 'Брак'\n",
    "        if 'гражданский брак' in family_status:\n",
    "            return 'Гражданский брак'\n",
    "        if 'вдовец / вдова' in family_status:\n",
    "            return 'Вдовствующие'\n",
    "        if 'в разводе' in family_status:\n",
    "            return 'Разведеные'      \n",
    "        return 'Одиночка'\n",
    "    \n",
    " \n",
    "data['partnerStatus'] = data.apply(partnerStatus, axis=1)\n",
    "\n",
    "def incomeFrom(row):\n",
    "        income_type = row ['income_type']\n",
    "        \n",
    "        if 'госслужащий' in income_type:\n",
    "            return 'Госслужащий'\n",
    "        if 'пенсионер' in income_type:\n",
    "            return 'Пенсионер'\n",
    "        if 'студент' in income_type:\n",
    "            return 'Студент'\n",
    "        if 'в декрете' in income_type:\n",
    "            return 'Декрет'\n",
    "        if 'предприниматель' in income_type:\n",
    "            return 'Предприниматель'\n",
    "        if 'компаньон' in income_type:\n",
    "            return 'Компаньон'\n",
    "        return 'Сотрудник'\n",
    " \n",
    "data['incomeFrom'] = data.apply(incomeFrom, axis=1)\n",
    "\n",
    "\n",
    "def incomeCount(quantity):\n",
    "        if quantity < 75000:\n",
    "                return 'Ниже среднего'\n",
    "        if quantity <= 112500:\n",
    "                return 'Средний'\n",
    "        if quantity <= 150000:\n",
    "                return 'Выше среднего'\n",
    "        return 'Значительно выше среднего'\n",
    "\n",
    "data['incomeCount'] = data['total_income'].apply(incomeCount)\n",
    "\n",
    "data.head(5)"
   ]
  },
  {
   "cell_type": "markdown",
   "metadata": {},
   "source": [
    "### Вывод"
   ]
  },
  {
   "cell_type": "markdown",
   "metadata": {},
   "source": [
    "На основании уникальный значений, разделила данные на категории, каждую категорию выделила в отдельный столбец. \n",
    "\n"
   ]
  },
  {
   "cell_type": "markdown",
   "metadata": {},
   "source": [
    "### Шаг 3. Ответьте на вопросы"
   ]
  },
  {
   "cell_type": "markdown",
   "metadata": {},
   "source": [
    "- Есть ли зависимость между наличием детей и возвратом кредита в срок?"
   ]
  },
  {
   "cell_type": "code",
   "execution_count": 35,
   "metadata": {},
   "outputs": [
    {
     "data": {
      "text/html": [
       "<style  type=\"text/css\" >\n",
       "#T_69150d70_3280_11eb_8e60_109add674691row0_col0,#T_69150d70_3280_11eb_8e60_109add674691row1_col0,#T_69150d70_3280_11eb_8e60_109add674691row2_col2{\n",
       "            background-color:  #fff5f0;\n",
       "            color:  #000000;\n",
       "        }#T_69150d70_3280_11eb_8e60_109add674691row0_col1{\n",
       "            background-color:  #fcc2aa;\n",
       "            color:  #000000;\n",
       "        }#T_69150d70_3280_11eb_8e60_109add674691row0_col2,#T_69150d70_3280_11eb_8e60_109add674691row1_col2,#T_69150d70_3280_11eb_8e60_109add674691row2_col0{\n",
       "            background-color:  #67000d;\n",
       "            color:  #f1f1f1;\n",
       "        }#T_69150d70_3280_11eb_8e60_109add674691row1_col1{\n",
       "            background-color:  #fcaf93;\n",
       "            color:  #000000;\n",
       "        }#T_69150d70_3280_11eb_8e60_109add674691row2_col1{\n",
       "            background-color:  #ac1117;\n",
       "            color:  #f1f1f1;\n",
       "        }</style><table id=\"T_69150d70_3280_11eb_8e60_109add674691\" ><thead>    <tr>        <th class=\"index_name level0\" >childrenCount</th>        <th class=\"col_heading level0 col0\" >Много детей</th>        <th class=\"col_heading level0 col1\" >1 ребенок</th>        <th class=\"col_heading level0 col2\" >Нет детей</th>    </tr></thead><tbody>\n",
       "                <tr>\n",
       "                        <th id=\"T_69150d70_3280_11eb_8e60_109add674691level0_row0\" class=\"row_heading level0 row0\" >В срок</th>\n",
       "                        <td id=\"T_69150d70_3280_11eb_8e60_109add674691row0_col0\" class=\"data row0 col0\" >1858.000000</td>\n",
       "                        <td id=\"T_69150d70_3280_11eb_8e60_109add674691row0_col1\" class=\"data row0 col1\" >4411.000000</td>\n",
       "                        <td id=\"T_69150d70_3280_11eb_8e60_109add674691row0_col2\" class=\"data row0 col2\" >13044.000000</td>\n",
       "            </tr>\n",
       "            <tr>\n",
       "                        <th id=\"T_69150d70_3280_11eb_8e60_109add674691level0_row1\" class=\"row_heading level0 row1\" >Просрочен</th>\n",
       "                        <td id=\"T_69150d70_3280_11eb_8e60_109add674691row1_col0\" class=\"data row1 col0\" >194.000000</td>\n",
       "                        <td id=\"T_69150d70_3280_11eb_8e60_109add674691row1_col1\" class=\"data row1 col1\" >445.000000</td>\n",
       "                        <td id=\"T_69150d70_3280_11eb_8e60_109add674691row1_col2\" class=\"data row1 col2\" >1063.000000</td>\n",
       "            </tr>\n",
       "            <tr>\n",
       "                        <th id=\"T_69150d70_3280_11eb_8e60_109add674691level0_row2\" class=\"row_heading level0 row2\" >Доля просроченных платежей</th>\n",
       "                        <td id=\"T_69150d70_3280_11eb_8e60_109add674691row2_col0\" class=\"data row2 col0\" >0.094542</td>\n",
       "                        <td id=\"T_69150d70_3280_11eb_8e60_109add674691row2_col1\" class=\"data row2 col1\" >0.091639</td>\n",
       "                        <td id=\"T_69150d70_3280_11eb_8e60_109add674691row2_col2\" class=\"data row2 col2\" >0.075353</td>\n",
       "            </tr>\n",
       "    </tbody></table>"
      ],
      "text/plain": [
       "<pandas.io.formats.style.Styler at 0x12c9a16d8>"
      ]
     },
     "execution_count": 35,
     "metadata": {},
     "output_type": "execute_result"
    }
   ],
   "source": [
    "children_pivot = data.pivot_table(index = ['childrenCount'], columns = 'debt', values = 'children', aggfunc='count')\n",
    "\n",
    "new_columns = ['В срок','Просрочен']\n",
    "children_pivot.set_axis(new_columns, axis='columns',inplace = True)\n",
    " \n",
    "#создаем новый столбец с долей и выводим таблицу на печать\n",
    "children_pivot['Доля просроченных платежей']= children_pivot['Просрочен']/(children_pivot['Просрочен']+children_pivot['В срок'])\n",
    "children_pivot.sort_values(by = 'Доля просроченных платежей', ascending = False).T.style.background_gradient(\"Reds\", axis=1)"
   ]
  },
  {
   "cell_type": "markdown",
   "metadata": {},
   "source": [
    "### Вывод"
   ]
  },
  {
   "cell_type": "markdown",
   "metadata": {},
   "source": [
    "Да, зависимость есть: у людей с детьми доля просроченных платежей больше. Соответственное, чем больше детей, тем выше доля просроченных платежей."
   ]
  },
  {
   "cell_type": "markdown",
   "metadata": {},
   "source": [
    "- Есть ли зависимость между семейным положением и возвратом кредита в срок?"
   ]
  },
  {
   "cell_type": "code",
   "execution_count": 33,
   "metadata": {},
   "outputs": [
    {
     "data": {
      "text/html": [
       "<style  type=\"text/css\" >\n",
       "#T_608278e6_3280_11eb_8e60_109add674691row0_col0{\n",
       "            background-color:  #fed8c7;\n",
       "            color:  #000000;\n",
       "        }#T_608278e6_3280_11eb_8e60_109add674691row0_col1{\n",
       "            background-color:  #fcb398;\n",
       "            color:  #000000;\n",
       "        }#T_608278e6_3280_11eb_8e60_109add674691row0_col2,#T_608278e6_3280_11eb_8e60_109add674691row1_col2,#T_608278e6_3280_11eb_8e60_109add674691row2_col0{\n",
       "            background-color:  #67000d;\n",
       "            color:  #f1f1f1;\n",
       "        }#T_608278e6_3280_11eb_8e60_109add674691row0_col3{\n",
       "            background-color:  #fff2eb;\n",
       "            color:  #000000;\n",
       "        }#T_608278e6_3280_11eb_8e60_109add674691row0_col4,#T_608278e6_3280_11eb_8e60_109add674691row1_col4,#T_608278e6_3280_11eb_8e60_109add674691row2_col4{\n",
       "            background-color:  #fff5f0;\n",
       "            color:  #000000;\n",
       "        }#T_608278e6_3280_11eb_8e60_109add674691row1_col0{\n",
       "            background-color:  #fcbda4;\n",
       "            color:  #000000;\n",
       "        }#T_608278e6_3280_11eb_8e60_109add674691row1_col1{\n",
       "            background-color:  #fc9373;\n",
       "            color:  #000000;\n",
       "        }#T_608278e6_3280_11eb_8e60_109add674691row1_col3{\n",
       "            background-color:  #fff1ea;\n",
       "            color:  #000000;\n",
       "        }#T_608278e6_3280_11eb_8e60_109add674691row2_col1{\n",
       "            background-color:  #a81016;\n",
       "            color:  #f1f1f1;\n",
       "        }#T_608278e6_3280_11eb_8e60_109add674691row2_col2{\n",
       "            background-color:  #fca98c;\n",
       "            color:  #000000;\n",
       "        }#T_608278e6_3280_11eb_8e60_109add674691row2_col3{\n",
       "            background-color:  #fdd3c1;\n",
       "            color:  #000000;\n",
       "        }</style><table id=\"T_608278e6_3280_11eb_8e60_109add674691\" ><thead>    <tr>        <th class=\"index_name level0\" >partnerStatus</th>        <th class=\"col_heading level0 col0\" >Одиночка</th>        <th class=\"col_heading level0 col1\" >Гражданский брак</th>        <th class=\"col_heading level0 col2\" >Брак</th>        <th class=\"col_heading level0 col3\" >Разведеные</th>        <th class=\"col_heading level0 col4\" >Вдовствующие</th>    </tr></thead><tbody>\n",
       "                <tr>\n",
       "                        <th id=\"T_608278e6_3280_11eb_8e60_109add674691level0_row0\" class=\"row_heading level0 row0\" >В срок</th>\n",
       "                        <td id=\"T_608278e6_3280_11eb_8e60_109add674691row0_col0\" class=\"data row0 col0\" >2536.000000</td>\n",
       "                        <td id=\"T_608278e6_3280_11eb_8e60_109add674691row0_col1\" class=\"data row0 col1\" >3775.000000</td>\n",
       "                        <td id=\"T_608278e6_3280_11eb_8e60_109add674691row0_col2\" class=\"data row0 col2\" >11413.000000</td>\n",
       "                        <td id=\"T_608278e6_3280_11eb_8e60_109add674691row0_col3\" class=\"data row0 col3\" >1110.000000</td>\n",
       "                        <td id=\"T_608278e6_3280_11eb_8e60_109add674691row0_col4\" class=\"data row0 col4\" >896.000000</td>\n",
       "            </tr>\n",
       "            <tr>\n",
       "                        <th id=\"T_608278e6_3280_11eb_8e60_109add674691level0_row1\" class=\"row_heading level0 row1\" >Просрочен</th>\n",
       "                        <td id=\"T_608278e6_3280_11eb_8e60_109add674691row1_col0\" class=\"data row1 col0\" >274.000000</td>\n",
       "                        <td id=\"T_608278e6_3280_11eb_8e60_109add674691row1_col1\" class=\"data row1 col1\" >388.000000</td>\n",
       "                        <td id=\"T_608278e6_3280_11eb_8e60_109add674691row1_col2\" class=\"data row1 col2\" >931.000000</td>\n",
       "                        <td id=\"T_608278e6_3280_11eb_8e60_109add674691row1_col3\" class=\"data row1 col3\" >85.000000</td>\n",
       "                        <td id=\"T_608278e6_3280_11eb_8e60_109add674691row1_col4\" class=\"data row1 col4\" >63.000000</td>\n",
       "            </tr>\n",
       "            <tr>\n",
       "                        <th id=\"T_608278e6_3280_11eb_8e60_109add674691level0_row2\" class=\"row_heading level0 row2\" >Доля просроченных платежей</th>\n",
       "                        <td id=\"T_608278e6_3280_11eb_8e60_109add674691row2_col0\" class=\"data row2 col0\" >0.097509</td>\n",
       "                        <td id=\"T_608278e6_3280_11eb_8e60_109add674691row2_col1\" class=\"data row2 col1\" >0.093202</td>\n",
       "                        <td id=\"T_608278e6_3280_11eb_8e60_109add674691row2_col2\" class=\"data row2 col2\" >0.075421</td>\n",
       "                        <td id=\"T_608278e6_3280_11eb_8e60_109add674691row2_col3\" class=\"data row2 col3\" >0.071130</td>\n",
       "                        <td id=\"T_608278e6_3280_11eb_8e60_109add674691row2_col4\" class=\"data row2 col4\" >0.065693</td>\n",
       "            </tr>\n",
       "    </tbody></table>"
      ],
      "text/plain": [
       "<pandas.io.formats.style.Styler at 0x12026cb38>"
      ]
     },
     "execution_count": 33,
     "metadata": {},
     "output_type": "execute_result"
    }
   ],
   "source": [
    "family_pivot = data.pivot_table(index = ['partnerStatus'], columns = 'debt', values = 'children', aggfunc='count')\n",
    "\n",
    "new_columns = ['В срок','Просрочен']\n",
    "family_pivot.set_axis(new_columns, axis='columns',inplace = True)\n",
    " \n",
    "#создаем новый столбец с долей и выводим таблицу на печать\n",
    "family_pivot['Доля просроченных платежей']= family_pivot['Просрочен']/(family_pivot['Просрочен']+family_pivot['В срок'])\n",
    "family_pivot.sort_values(by = 'Доля просроченных платежей', ascending = False).T.style.background_gradient(\"Reds\", axis=1)"
   ]
  },
  {
   "cell_type": "markdown",
   "metadata": {},
   "source": [
    "### Вывод"
   ]
  },
  {
   "cell_type": "markdown",
   "metadata": {},
   "source": [
    "У одиноких людей доля просроченных платежей выше, чем у семейных. У людей в гражданском браке доле просроченных платежей выше, чем у людей в официальном браке и развденных. Вдовствующие наиболее дициплинированные."
   ]
  },
  {
   "cell_type": "markdown",
   "metadata": {},
   "source": [
    "- Есть ли зависимость между уровнем дохода и возвратом кредита в срок?"
   ]
  },
  {
   "cell_type": "code",
   "execution_count": 34,
   "metadata": {},
   "outputs": [
    {
     "data": {
      "text/html": [
       "<style  type=\"text/css\" >\n",
       "#T_662df8e2_3280_11eb_8e60_109add674691row0_col0{\n",
       "            background-color:  #fcad90;\n",
       "            color:  #000000;\n",
       "        }#T_662df8e2_3280_11eb_8e60_109add674691row0_col1{\n",
       "            background-color:  #fcbca2;\n",
       "            color:  #000000;\n",
       "        }#T_662df8e2_3280_11eb_8e60_109add674691row0_col2,#T_662df8e2_3280_11eb_8e60_109add674691row1_col2,#T_662df8e2_3280_11eb_8e60_109add674691row2_col0{\n",
       "            background-color:  #67000d;\n",
       "            color:  #f1f1f1;\n",
       "        }#T_662df8e2_3280_11eb_8e60_109add674691row0_col3,#T_662df8e2_3280_11eb_8e60_109add674691row1_col3,#T_662df8e2_3280_11eb_8e60_109add674691row2_col3{\n",
       "            background-color:  #fff5f0;\n",
       "            color:  #000000;\n",
       "        }#T_662df8e2_3280_11eb_8e60_109add674691row1_col0{\n",
       "            background-color:  #fc9576;\n",
       "            color:  #000000;\n",
       "        }#T_662df8e2_3280_11eb_8e60_109add674691row1_col1{\n",
       "            background-color:  #fcb095;\n",
       "            color:  #000000;\n",
       "        }#T_662df8e2_3280_11eb_8e60_109add674691row2_col1{\n",
       "            background-color:  #e32f27;\n",
       "            color:  #f1f1f1;\n",
       "        }#T_662df8e2_3280_11eb_8e60_109add674691row2_col2{\n",
       "            background-color:  #fc8a6a;\n",
       "            color:  #000000;\n",
       "        }</style><table id=\"T_662df8e2_3280_11eb_8e60_109add674691\" ><thead>    <tr>        <th class=\"index_name level0\" >incomeCount</th>        <th class=\"col_heading level0 col0\" >Выше среднего</th>        <th class=\"col_heading level0 col1\" >Средний</th>        <th class=\"col_heading level0 col2\" >Значительно выше среднего</th>        <th class=\"col_heading level0 col3\" >Ниже среднего</th>    </tr></thead><tbody>\n",
       "                <tr>\n",
       "                        <th id=\"T_662df8e2_3280_11eb_8e60_109add674691level0_row0\" class=\"row_heading level0 row0\" >В срок</th>\n",
       "                        <td id=\"T_662df8e2_3280_11eb_8e60_109add674691row0_col0\" class=\"data row0 col0\" >4169.000000</td>\n",
       "                        <td id=\"T_662df8e2_3280_11eb_8e60_109add674691row0_col1\" class=\"data row0 col1\" >3783.000000</td>\n",
       "                        <td id=\"T_662df8e2_3280_11eb_8e60_109add674691row0_col2\" class=\"data row0 col2\" >10049.000000</td>\n",
       "                        <td id=\"T_662df8e2_3280_11eb_8e60_109add674691row0_col3\" class=\"data row0 col3\" >1729.000000</td>\n",
       "            </tr>\n",
       "            <tr>\n",
       "                        <th id=\"T_662df8e2_3280_11eb_8e60_109add674691level0_row1\" class=\"row_heading level0 row1\" >Просрочен</th>\n",
       "                        <td id=\"T_662df8e2_3280_11eb_8e60_109add674691row1_col0\" class=\"data row1 col0\" >402.000000</td>\n",
       "                        <td id=\"T_662df8e2_3280_11eb_8e60_109add674691row1_col1\" class=\"data row1 col1\" >342.000000</td>\n",
       "                        <td id=\"T_662df8e2_3280_11eb_8e60_109add674691row1_col2\" class=\"data row1 col2\" >861.000000</td>\n",
       "                        <td id=\"T_662df8e2_3280_11eb_8e60_109add674691row1_col3\" class=\"data row1 col3\" >136.000000</td>\n",
       "            </tr>\n",
       "            <tr>\n",
       "                        <th id=\"T_662df8e2_3280_11eb_8e60_109add674691level0_row2\" class=\"row_heading level0 row2\" >Доля просроченных платежей</th>\n",
       "                        <td id=\"T_662df8e2_3280_11eb_8e60_109add674691row2_col0\" class=\"data row2 col0\" >0.087946</td>\n",
       "                        <td id=\"T_662df8e2_3280_11eb_8e60_109add674691row2_col1\" class=\"data row2 col1\" >0.082909</td>\n",
       "                        <td id=\"T_662df8e2_3280_11eb_8e60_109add674691row2_col2\" class=\"data row2 col2\" >0.078918</td>\n",
       "                        <td id=\"T_662df8e2_3280_11eb_8e60_109add674691row2_col3\" class=\"data row2 col3\" >0.072922</td>\n",
       "            </tr>\n",
       "    </tbody></table>"
      ],
      "text/plain": [
       "<pandas.io.formats.style.Styler at 0x12c9a1198>"
      ]
     },
     "execution_count": 34,
     "metadata": {},
     "output_type": "execute_result"
    }
   ],
   "source": [
    "incomeCount_data=data.pivot_table(index = ['incomeCount'], columns = 'debt', values = 'children', aggfunc='count')\n",
    " \n",
    "new_columns = ['В срок','Просрочен']\n",
    "incomeCount_data.set_axis(new_columns, axis='columns',inplace = True)\n",
    " \n",
    "incomeCount_data['Доля просроченных платежей']=incomeCount_data['Просрочен']/(incomeCount_data['Просрочен']+incomeCount_data['В срок'])\n",
    "incomeCount_data.sort_values(by = 'Доля просроченных платежей', ascending = False).T.style.background_gradient(\"Reds\", axis=1)"
   ]
  },
  {
   "cell_type": "markdown",
   "metadata": {},
   "source": [
    "### Вывод"
   ]
  },
  {
   "cell_type": "markdown",
   "metadata": {},
   "source": [
    "Да, есть: доля просроченных платежей у людей со средним доходом и доходом выше среднего выше, чем у людей с доходом значительно ниже среднего."
   ]
  },
  {
   "cell_type": "markdown",
   "metadata": {},
   "source": [
    "- Как разные цели кредита влияют на его возврат в срок?"
   ]
  },
  {
   "cell_type": "code",
   "execution_count": 36,
   "metadata": {},
   "outputs": [
    {
     "data": {
      "text/html": [
       "<style  type=\"text/css\" >\n",
       "#T_73066766_3280_11eb_8e60_109add674691row0_col0{\n",
       "            background-color:  #fcc3ab;\n",
       "            color:  #000000;\n",
       "        }#T_73066766_3280_11eb_8e60_109add674691row0_col1{\n",
       "            background-color:  #fdcdb9;\n",
       "            color:  #000000;\n",
       "        }#T_73066766_3280_11eb_8e60_109add674691row0_col2,#T_73066766_3280_11eb_8e60_109add674691row1_col2,#T_73066766_3280_11eb_8e60_109add674691row2_col3{\n",
       "            background-color:  #fff5f0;\n",
       "            color:  #000000;\n",
       "        }#T_73066766_3280_11eb_8e60_109add674691row0_col3,#T_73066766_3280_11eb_8e60_109add674691row1_col3,#T_73066766_3280_11eb_8e60_109add674691row2_col0{\n",
       "            background-color:  #67000d;\n",
       "            color:  #f1f1f1;\n",
       "        }#T_73066766_3280_11eb_8e60_109add674691row1_col0{\n",
       "            background-color:  #fc9576;\n",
       "            color:  #000000;\n",
       "        }#T_73066766_3280_11eb_8e60_109add674691row1_col1{\n",
       "            background-color:  #fca78b;\n",
       "            color:  #000000;\n",
       "        }#T_73066766_3280_11eb_8e60_109add674691row2_col1{\n",
       "            background-color:  #860811;\n",
       "            color:  #f1f1f1;\n",
       "        }#T_73066766_3280_11eb_8e60_109add674691row2_col2{\n",
       "            background-color:  #fc9c7d;\n",
       "            color:  #000000;\n",
       "        }</style><table id=\"T_73066766_3280_11eb_8e60_109add674691\" ><thead>    <tr>        <th class=\"index_name level0\" >loanPurpose</th>        <th class=\"col_heading level0 col0\" >Автотранспорт</th>        <th class=\"col_heading level0 col1\" >Образование</th>        <th class=\"col_heading level0 col2\" >Свадьба</th>        <th class=\"col_heading level0 col3\" >Недвижимость</th>    </tr></thead><tbody>\n",
       "                <tr>\n",
       "                        <th id=\"T_73066766_3280_11eb_8e60_109add674691level0_row0\" class=\"row_heading level0 row0\" >В срок</th>\n",
       "                        <td id=\"T_73066766_3280_11eb_8e60_109add674691row0_col0\" class=\"data row0 col0\" >3905.000000</td>\n",
       "                        <td id=\"T_73066766_3280_11eb_8e60_109add674691row0_col1\" class=\"data row0 col1\" >3644.000000</td>\n",
       "                        <td id=\"T_73066766_3280_11eb_8e60_109add674691row0_col2\" class=\"data row0 col2\" >2149.000000</td>\n",
       "                        <td id=\"T_73066766_3280_11eb_8e60_109add674691row0_col3\" class=\"data row0 col3\" >10032.000000</td>\n",
       "            </tr>\n",
       "            <tr>\n",
       "                        <th id=\"T_73066766_3280_11eb_8e60_109add674691level0_row1\" class=\"row_heading level0 row1\" >Просрочен</th>\n",
       "                        <td id=\"T_73066766_3280_11eb_8e60_109add674691row1_col0\" class=\"data row1 col0\" >403.000000</td>\n",
       "                        <td id=\"T_73066766_3280_11eb_8e60_109add674691row1_col1\" class=\"data row1 col1\" >370.000000</td>\n",
       "                        <td id=\"T_73066766_3280_11eb_8e60_109add674691row1_col2\" class=\"data row1 col2\" >186.000000</td>\n",
       "                        <td id=\"T_73066766_3280_11eb_8e60_109add674691row1_col3\" class=\"data row1 col3\" >782.000000</td>\n",
       "            </tr>\n",
       "            <tr>\n",
       "                        <th id=\"T_73066766_3280_11eb_8e60_109add674691level0_row2\" class=\"row_heading level0 row2\" >Доля просроченных платежей</th>\n",
       "                        <td id=\"T_73066766_3280_11eb_8e60_109add674691row2_col0\" class=\"data row2 col0\" >0.093547</td>\n",
       "                        <td id=\"T_73066766_3280_11eb_8e60_109add674691row2_col1\" class=\"data row2 col1\" >0.092177</td>\n",
       "                        <td id=\"T_73066766_3280_11eb_8e60_109add674691row2_col2\" class=\"data row2 col2\" >0.079657</td>\n",
       "                        <td id=\"T_73066766_3280_11eb_8e60_109add674691row2_col3\" class=\"data row2 col3\" >0.072314</td>\n",
       "            </tr>\n",
       "    </tbody></table>"
      ],
      "text/plain": [
       "<pandas.io.formats.style.Styler at 0x12c99f940>"
      ]
     },
     "execution_count": 36,
     "metadata": {},
     "output_type": "execute_result"
    }
   ],
   "source": [
    "loanPurpose_data=data.pivot_table(index = ['loanPurpose'], columns = 'debt', values = 'children', aggfunc='count')\n",
    "\n",
    "new_columns = ['В срок','Просрочен']\n",
    "loanPurpose_data.set_axis(new_columns, axis='columns',inplace = True)\n",
    " \n",
    "loanPurpose_data['Доля просроченных платежей']=loanPurpose_data['Просрочен']/(loanPurpose_data['Просрочен']+loanPurpose_data['В срок'])\n",
    "loanPurpose_data.sort_values(by = 'Доля просроченных платежей', ascending = False).T.style.background_gradient(\"Reds\", axis=1)"
   ]
  },
  {
   "cell_type": "markdown",
   "metadata": {},
   "source": [
    "### Вывод\n",
    "Кредиты на образование и приобретение автомобиля невозвращают чаще, чем кредиты на свадьбу или невижимость. "
   ]
  },
  {
   "cell_type": "markdown",
   "metadata": {},
   "source": [
    "- Как способ заработка влияет на возврат кредита в срок?"
   ]
  },
  {
   "cell_type": "code",
   "execution_count": 37,
   "metadata": {
    "scrolled": true
   },
   "outputs": [
    {
     "data": {
      "text/html": [
       "<style  type=\"text/css\" >\n",
       "#T_7f9f1770_3280_11eb_8e60_109add674691row0_col0,#T_7f9f1770_3280_11eb_8e60_109add674691row1_col0,#T_7f9f1770_3280_11eb_8e60_109add674691row2_col0{\n",
       "            background-color:  #67000d;\n",
       "            color:  #f1f1f1;\n",
       "        }#T_7f9f1770_3280_11eb_8e60_109add674691row0_col1{\n",
       "            background-color:  #fb7353;\n",
       "            color:  #000000;\n",
       "        }#T_7f9f1770_3280_11eb_8e60_109add674691row0_col2{\n",
       "            background-color:  #fedecf;\n",
       "            color:  #000000;\n",
       "        }#T_7f9f1770_3280_11eb_8e60_109add674691row0_col3{\n",
       "            background-color:  #fc9777;\n",
       "            color:  #000000;\n",
       "        }#T_7f9f1770_3280_11eb_8e60_109add674691row0_col4,#T_7f9f1770_3280_11eb_8e60_109add674691row0_col5,#T_7f9f1770_3280_11eb_8e60_109add674691row0_col6,#T_7f9f1770_3280_11eb_8e60_109add674691row1_col4,#T_7f9f1770_3280_11eb_8e60_109add674691row1_col5,#T_7f9f1770_3280_11eb_8e60_109add674691row1_col6,#T_7f9f1770_3280_11eb_8e60_109add674691row2_col4,#T_7f9f1770_3280_11eb_8e60_109add674691row2_col5,#T_7f9f1770_3280_11eb_8e60_109add674691row2_col6{\n",
       "            background-color:  #fff5f0;\n",
       "            color:  #000000;\n",
       "        }#T_7f9f1770_3280_11eb_8e60_109add674691row1_col1{\n",
       "            background-color:  #fc997a;\n",
       "            color:  #000000;\n",
       "        }#T_7f9f1770_3280_11eb_8e60_109add674691row1_col2{\n",
       "            background-color:  #fee8dd;\n",
       "            color:  #000000;\n",
       "        }#T_7f9f1770_3280_11eb_8e60_109add674691row1_col3{\n",
       "            background-color:  #fdc9b3;\n",
       "            color:  #000000;\n",
       "        }#T_7f9f1770_3280_11eb_8e60_109add674691row2_col1{\n",
       "            background-color:  #c4161c;\n",
       "            color:  #f1f1f1;\n",
       "        }#T_7f9f1770_3280_11eb_8e60_109add674691row2_col2{\n",
       "            background-color:  #f03f2e;\n",
       "            color:  #f1f1f1;\n",
       "        }#T_7f9f1770_3280_11eb_8e60_109add674691row2_col3{\n",
       "            background-color:  #f34935;\n",
       "            color:  #000000;\n",
       "        }</style><table id=\"T_7f9f1770_3280_11eb_8e60_109add674691\" ><thead>    <tr>        <th class=\"index_name level0\" >incomeFrom</th>        <th class=\"col_heading level0 col0\" >Сотрудник</th>        <th class=\"col_heading level0 col1\" >Компаньон</th>        <th class=\"col_heading level0 col2\" >Госслужащий</th>        <th class=\"col_heading level0 col3\" >Пенсионер</th>        <th class=\"col_heading level0 col4\" >Декрет</th>        <th class=\"col_heading level0 col5\" >Предприниматель</th>        <th class=\"col_heading level0 col6\" >Студент</th>    </tr></thead><tbody>\n",
       "                <tr>\n",
       "                        <th id=\"T_7f9f1770_3280_11eb_8e60_109add674691level0_row0\" class=\"row_heading level0 row0\" >В срок</th>\n",
       "                        <td id=\"T_7f9f1770_3280_11eb_8e60_109add674691row0_col0\" class=\"data row0 col0\" >10031.000000</td>\n",
       "                        <td id=\"T_7f9f1770_3280_11eb_8e60_109add674691row0_col1\" class=\"data row0 col1\" >4704.000000</td>\n",
       "                        <td id=\"T_7f9f1770_3280_11eb_8e60_109add674691row0_col2\" class=\"data row0 col2\" >1371.000000</td>\n",
       "                        <td id=\"T_7f9f1770_3280_11eb_8e60_109add674691row0_col3\" class=\"data row0 col3\" >3621.000000</td>\n",
       "                        <td id=\"T_7f9f1770_3280_11eb_8e60_109add674691row0_col4\" class=\"data row0 col4\" >0.000000</td>\n",
       "                        <td id=\"T_7f9f1770_3280_11eb_8e60_109add674691row0_col5\" class=\"data row0 col5\" >2.000000</td>\n",
       "                        <td id=\"T_7f9f1770_3280_11eb_8e60_109add674691row0_col6\" class=\"data row0 col6\" >1.000000</td>\n",
       "            </tr>\n",
       "            <tr>\n",
       "                        <th id=\"T_7f9f1770_3280_11eb_8e60_109add674691level0_row1\" class=\"row_heading level0 row1\" >Просрочен</th>\n",
       "                        <td id=\"T_7f9f1770_3280_11eb_8e60_109add674691row1_col0\" class=\"data row1 col0\" >1062.000000</td>\n",
       "                        <td id=\"T_7f9f1770_3280_11eb_8e60_109add674691row1_col1\" class=\"data row1 col1\" >376.000000</td>\n",
       "                        <td id=\"T_7f9f1770_3280_11eb_8e60_109add674691row1_col2\" class=\"data row1 col2\" >86.000000</td>\n",
       "                        <td id=\"T_7f9f1770_3280_11eb_8e60_109add674691row1_col3\" class=\"data row1 col3\" >216.000000</td>\n",
       "                        <td id=\"T_7f9f1770_3280_11eb_8e60_109add674691row1_col4\" class=\"data row1 col4\" >1.000000</td>\n",
       "                        <td id=\"T_7f9f1770_3280_11eb_8e60_109add674691row1_col5\" class=\"data row1 col5\" >0.000000</td>\n",
       "                        <td id=\"T_7f9f1770_3280_11eb_8e60_109add674691row1_col6\" class=\"data row1 col6\" >0.000000</td>\n",
       "            </tr>\n",
       "            <tr>\n",
       "                        <th id=\"T_7f9f1770_3280_11eb_8e60_109add674691level0_row2\" class=\"row_heading level0 row2\" >Доля просроченных платежей</th>\n",
       "                        <td id=\"T_7f9f1770_3280_11eb_8e60_109add674691row2_col0\" class=\"data row2 col0\" >0.095736</td>\n",
       "                        <td id=\"T_7f9f1770_3280_11eb_8e60_109add674691row2_col1\" class=\"data row2 col1\" >0.074016</td>\n",
       "                        <td id=\"T_7f9f1770_3280_11eb_8e60_109add674691row2_col2\" class=\"data row2 col2\" >0.059025</td>\n",
       "                        <td id=\"T_7f9f1770_3280_11eb_8e60_109add674691row2_col3\" class=\"data row2 col3\" >0.056294</td>\n",
       "                        <td id=\"T_7f9f1770_3280_11eb_8e60_109add674691row2_col4\" class=\"data row2 col4\" >0.000000</td>\n",
       "                        <td id=\"T_7f9f1770_3280_11eb_8e60_109add674691row2_col5\" class=\"data row2 col5\" >0.000000</td>\n",
       "                        <td id=\"T_7f9f1770_3280_11eb_8e60_109add674691row2_col6\" class=\"data row2 col6\" >0.000000</td>\n",
       "            </tr>\n",
       "    </tbody></table>"
      ],
      "text/plain": [
       "<pandas.io.formats.style.Styler at 0x12c91ca58>"
      ]
     },
     "execution_count": 37,
     "metadata": {},
     "output_type": "execute_result"
    }
   ],
   "source": [
    "incomeFrom_data=data.pivot_table(index = ['incomeFrom'], columns = 'debt', values = 'family_status_id', aggfunc='count')\n",
    "\n",
    "new_columns = ['В срок','Просрочен']\n",
    "incomeFrom_data.set_axis(new_columns, axis='columns',inplace = True)\n",
    " \n",
    "incomeFrom_data['Доля просроченных платежей']=incomeFrom_data['Просрочен']/(incomeFrom_data['Просрочен']+incomeFrom_data['В срок'])\n",
    "\n",
    "plataNan = len(incomeFrom_data[incomeFrom_data['Просрочен'].isna()])\n",
    "dolyaNan = len(incomeFrom_data[incomeFrom_data['Доля просроченных платежей'].isna()])\n",
    "\n",
    "incomeFrom_data['Просрочен'] = incomeFrom_data['Просрочен'].fillna(0)\n",
    "incomeFrom_data['В срок'] = incomeFrom_data['В срок'].fillna(0)\n",
    "incomeFrom_data['Доля просроченных платежей'] = incomeFrom_data['Доля просроченных платежей'].fillna(0)\n",
    "\n",
    "incomeFrom_data.sort_values(by = 'Доля просроченных платежей', ascending = False).T.style.background_gradient(\"Reds\", axis=1)"
   ]
  },
  {
   "cell_type": "markdown",
   "metadata": {},
   "source": [
    "### Вывод \n",
    "Самые злостные неплатильщики — наемные работники, самые дисциплинированые — госслужащие и пенсионеры. "
   ]
  },
  {
   "cell_type": "markdown",
   "metadata": {},
   "source": [
    "- Как образование влияет на возврат кредита в срок?"
   ]
  },
  {
   "cell_type": "code",
   "execution_count": 38,
   "metadata": {},
   "outputs": [
    {
     "data": {
      "text/html": [
       "<style  type=\"text/css\" >\n",
       "#T_868363c0_3280_11eb_8e60_109add674691row0_col0,#T_868363c0_3280_11eb_8e60_109add674691row1_col0,#T_868363c0_3280_11eb_8e60_109add674691row2_col2{\n",
       "            background-color:  #fff5f0;\n",
       "            color:  #000000;\n",
       "        }#T_868363c0_3280_11eb_8e60_109add674691row0_col1,#T_868363c0_3280_11eb_8e60_109add674691row1_col1,#T_868363c0_3280_11eb_8e60_109add674691row2_col0{\n",
       "            background-color:  #67000d;\n",
       "            color:  #f1f1f1;\n",
       "        }#T_868363c0_3280_11eb_8e60_109add674691row0_col2{\n",
       "            background-color:  #fc8b6b;\n",
       "            color:  #000000;\n",
       "        }#T_868363c0_3280_11eb_8e60_109add674691row1_col2{\n",
       "            background-color:  #fcbfa7;\n",
       "            color:  #000000;\n",
       "        }#T_868363c0_3280_11eb_8e60_109add674691row2_col1{\n",
       "            background-color:  #f03f2e;\n",
       "            color:  #f1f1f1;\n",
       "        }</style><table id=\"T_868363c0_3280_11eb_8e60_109add674691\" ><thead>    <tr>        <th class=\"index_name level0\" >educationQlassification</th>        <th class=\"col_heading level0 col0\" >Без высшего</th>        <th class=\"col_heading level0 col1\" >Среднее</th>        <th class=\"col_heading level0 col2\" >Высшее</th>    </tr></thead><tbody>\n",
       "                <tr>\n",
       "                        <th id=\"T_868363c0_3280_11eb_8e60_109add674691level0_row0\" class=\"row_heading level0 row0\" >В срок</th>\n",
       "                        <td id=\"T_868363c0_3280_11eb_8e60_109add674691row0_col0\" class=\"data row0 col0\" >251.000000</td>\n",
       "                        <td id=\"T_868363c0_3280_11eb_8e60_109add674691row0_col1\" class=\"data row0 col1\" >13824.000000</td>\n",
       "                        <td id=\"T_868363c0_3280_11eb_8e60_109add674691row0_col2\" class=\"data row0 col2\" >5655.000000</td>\n",
       "            </tr>\n",
       "            <tr>\n",
       "                        <th id=\"T_868363c0_3280_11eb_8e60_109add674691level0_row1\" class=\"row_heading level0 row1\" >Просрочен</th>\n",
       "                        <td id=\"T_868363c0_3280_11eb_8e60_109add674691row1_col0\" class=\"data row1 col0\" >31.000000</td>\n",
       "                        <td id=\"T_868363c0_3280_11eb_8e60_109add674691row1_col1\" class=\"data row1 col1\" >1364.000000</td>\n",
       "                        <td id=\"T_868363c0_3280_11eb_8e60_109add674691row1_col2\" class=\"data row1 col2\" >346.000000</td>\n",
       "            </tr>\n",
       "            <tr>\n",
       "                        <th id=\"T_868363c0_3280_11eb_8e60_109add674691level0_row2\" class=\"row_heading level0 row2\" >Доля просроченных платежей</th>\n",
       "                        <td id=\"T_868363c0_3280_11eb_8e60_109add674691row2_col0\" class=\"data row2 col0\" >0.109929</td>\n",
       "                        <td id=\"T_868363c0_3280_11eb_8e60_109add674691row2_col1\" class=\"data row2 col1\" >0.089808</td>\n",
       "                        <td id=\"T_868363c0_3280_11eb_8e60_109add674691row2_col2\" class=\"data row2 col2\" >0.057657</td>\n",
       "            </tr>\n",
       "    </tbody></table>"
      ],
      "text/plain": [
       "<pandas.io.formats.style.Styler at 0x12026c0f0>"
      ]
     },
     "execution_count": 38,
     "metadata": {},
     "output_type": "execute_result"
    }
   ],
   "source": [
    "educationQlassification_data=data.pivot_table(index = ['educationQlassification'], columns = 'debt', values = 'children', aggfunc='count')\n",
    "\n",
    "new_columns = ['В срок','Просрочен']\n",
    "educationQlassification_data.set_axis(new_columns, axis='columns',inplace = True)\n",
    " \n",
    "educationQlassification_data['Доля просроченных платежей']=educationQlassification_data['Просрочен']/(educationQlassification_data['Просрочен']+educationQlassification_data['В срок'])\n",
    "educationQlassification_data.sort_values(by = 'Доля просроченных платежей', ascending = False).T.style.background_gradient(\"Reds\", axis=1)"
   ]
  },
  {
   "cell_type": "markdown",
   "metadata": {},
   "source": [
    "### Вывод\n",
    "Люди без высшего образования чаще не платят по кредитам, почти вдвое больше, чем с высшим. "
   ]
  },
  {
   "cell_type": "markdown",
   "metadata": {},
   "source": [
    "## Общий вывод"
   ]
  },
  {
   "cell_type": "markdown",
   "metadata": {},
   "source": [
    "Влияет ли семейное положение и количество детей клиента на факт погашения кредита в срок? \n",
    "\n",
    "У людей с детьми доля просроченных платежей больше. Чем больше детей, тем выше доля.\n",
    "\n",
    "У одиноких людей доля просроченных платежей выше, чем у семейных. У людей в гражданском браке доле просроченных платежей выше, чем у людей в официальном браке и развденных. Вдовствующие наиболее дициплинированные.\n",
    "\n",
    "Доля просроченных платежей у людей со средним доходом и доходом выше среднего выше, чем у людей с доходом значительно ниже среднего.\n",
    "\n",
    "Кредиты на образование и приобретение автомобиля невозвращают чаще, чем кредиты на свадьбу или невижимость.\n",
    "\n",
    "Самые злостные неплатильщики — наемные работники, самые дисциплинированые — пенсионеры и госслужащие. \n",
    "\n",
    "Люди без высшего образования вдвое чаще не платят по кредитам, чем люди с высшим."
   ]
  }
 ],
 "metadata": {
  "kernelspec": {
   "display_name": "Python 3",
   "language": "python",
   "name": "python3"
  },
  "language_info": {
   "codemirror_mode": {
    "name": "ipython",
    "version": 3
   },
   "file_extension": ".py",
   "mimetype": "text/x-python",
   "name": "python",
   "nbconvert_exporter": "python",
   "pygments_lexer": "ipython3",
   "version": "3.7.3"
  }
 },
 "nbformat": 4,
 "nbformat_minor": 2
}
